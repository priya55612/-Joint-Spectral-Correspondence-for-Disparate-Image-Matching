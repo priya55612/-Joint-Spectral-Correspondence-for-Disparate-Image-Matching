{
 "cells": [
  {
   "cell_type": "code",
   "execution_count": 1,
   "metadata": {},
   "outputs": [],
   "source": [
    "import cv2\n",
    "import numpy as np\n",
    "import matplotlib.pyplot as plt\n",
    "import os"
   ]
  },
  {
   "cell_type": "code",
   "execution_count": 2,
   "metadata": {},
   "outputs": [],
   "source": [
    "sift1 = cv2.xfeatures2d.SIFT_create(nOctaveLayers=8)\n",
    "sift2 =cv2.xfeatures2d.SIFT_create(nOctaveLayers=8)"
   ]
  },
  {
   "cell_type": "code",
   "execution_count": 3,
   "metadata": {},
   "outputs": [
    {
     "name": "stdout",
     "output_type": "stream",
     "text": [
      "(457, 760, 3)\n",
      "(457, 760, 3)\n"
     ]
    }
   ],
   "source": [
    "img1 = cv2.imread('../dataset/arch/01.png')\n",
    "print(img1.shape)\n",
    "# img1 = cv2.resize(img1,(,120))\n",
    "img2 = cv2.imread('../dataset/arch/02.png')\n",
    "# img2 = cv2.resize(img2,(120,120))\n",
    "print(img2.shape)\n"
   ]
  },
  {
   "cell_type": "code",
   "execution_count": 4,
   "metadata": {},
   "outputs": [],
   "source": [
    "# kp, des = sift.detectAndCompute(gray,None)"
   ]
  },
  {
   "cell_type": "code",
   "execution_count": 5,
   "metadata": {},
   "outputs": [],
   "source": [
    "step_size = 5\n",
    "kp1 = [cv2.KeyPoint(x, y, step_size) for y in range(0, img1.shape[0], step_size) \n",
    "                                    for x in range(0, img1.shape[1], step_size)]\n",
    "kp2 = [cv2.KeyPoint(x, y, step_size) for y in range(0, img2.shape[0], step_size) \n",
    "                                    for x in range(0, img2.shape[1], step_size)]\n"
   ]
  },
  {
   "cell_type": "code",
   "execution_count": 10,
   "metadata": {},
   "outputs": [],
   "source": [
    "dense_feat1 = sift1.compute(img1, kp1)\n",
    "dense_feat2 = sift2.compute(img2, kp2)"
   ]
  },
  {
   "cell_type": "code",
   "execution_count": 11,
   "metadata": {},
   "outputs": [
    {
     "name": "stdout",
     "output_type": "stream",
     "text": [
      "13984\n",
      "13984\n"
     ]
    }
   ],
   "source": [
    "print(len(kp1))\n",
    "print(len(kp2))"
   ]
  },
  {
   "cell_type": "code",
   "execution_count": 12,
   "metadata": {},
   "outputs": [
    {
     "name": "stdout",
     "output_type": "stream",
     "text": [
      "(13984, 128)\n",
      "(13984, 128)\n"
     ]
    }
   ],
   "source": [
    "print(dense_feat1[1].shape)\n",
    "print(dense_feat2[1].shape)\n",
    "dense_feat1 = dense_feat1[1]\n",
    "dense_feat2 =dense_feat2[1]"
   ]
  },
  {
   "cell_type": "code",
   "execution_count": 13,
   "metadata": {},
   "outputs": [],
   "source": [
    "# f = np.column_stack((dense_feat1[1],dense_feat2[1]))\n",
    "# print(f.shape)"
   ]
  },
  {
   "cell_type": "code",
   "execution_count": null,
   "metadata": {},
   "outputs": [],
   "source": [
    "sigma_f = 1\n",
    "w1 = np.array([[np.exp(-np.linalg.norm(i-j)**2/sigma_f**2) for j in dense_feat1] for i in dense_feat1])\n",
    "w2 = np.array([[np.exp(-np.linalg.norm(i-j)**2/sigma_f**2) for j in dense_feat2] for i in dense_feat2])\n",
    "c = np.array([[np.exp(-np.linalg.norm(i-j)**2/sigma_f**2) for j in dense_feat2] for i in dense_feat1])"
   ]
  },
  {
   "cell_type": "code",
   "execution_count": null,
   "metadata": {},
   "outputs": [],
   "source": [
    "t1 = np.column_stack((w1,c))\n",
    "t2 = np.column_stack((np.transpose(c),w2))\n",
    "W = np.row_stack((t1,t2))"
   ]
  },
  {
   "cell_type": "code",
   "execution_count": null,
   "metadata": {},
   "outputs": [],
   "source": [
    "u,s,v = np.linalg.svd(W)"
   ]
  },
  {
   "cell_type": "code",
   "execution_count": null,
   "metadata": {},
   "outputs": [],
   "source": [
    "k=5\n",
    "smallest_ev = v[:,len(v)-k-1:len(v)-1]\n",
    "i = np.column_stack((w1,w2))\n",
    "t = np.matmul(i,smallest_ev[:,-1])\n",
    "t = np.reshape(t,(img1.shape[0],img1.shape[1]))\n",
    "# t[:,:,1] = np.matmul(i[:,:,1],smallest_ev[:,-1])\n",
    "# t[:,:,2] = np.matmul(i[:,:,2],smallest_ev[:,-1])\n",
    "\n",
    "cv2.imshow('k',t)\n",
    "if(cv2.waitKey(0)&0xff==ord('q')):\n",
    "    cv2.destroyAllWindows()"
   ]
  }
 ],
 "metadata": {
  "kernelspec": {
   "display_name": "Python 3",
   "language": "python",
   "name": "python3"
  },
  "language_info": {
   "codemirror_mode": {
    "name": "ipython",
    "version": 3
   },
   "file_extension": ".py",
   "mimetype": "text/x-python",
   "name": "python",
   "nbconvert_exporter": "python",
   "pygments_lexer": "ipython3",
   "version": "3.7.1"
  }
 },
 "nbformat": 4,
 "nbformat_minor": 2
}
